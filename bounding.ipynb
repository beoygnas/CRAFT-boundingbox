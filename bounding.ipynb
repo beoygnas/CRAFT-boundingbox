{
 "cells": [
  {
   "cell_type": "code",
   "execution_count": null,
   "id": "c7d9511e",
   "metadata": {},
   "outputs": [],
   "source": [
    "import matplotlib.pyplot as plt\n",
    "from PIL import Image\n",
    "import numpy as np\n",
    "import matplotlib.patches as patches\n",
    "import cv2\n",
    "import numpy as np\n",
    "from google.colab.patches import cv2_imshow\n"
   ]
  },
  {
   "cell_type": "code",
   "execution_count": 14,
   "id": "b6b06a18",
   "metadata": {},
   "outputs": [],
   "source": [
    "f = open(\"./result/res_img8.txt\", 'r')\n",
    "image = np.array(Image.open(\"./img/img8.jpg\"))\n",
    "\n",
    "box_x = []\n",
    "box_y = []\n",
    "box_width = []\n",
    "box_height = []\n",
    "\n",
    "while True:\n",
    "    line = f.readline()\n",
    "    if not line: break\n",
    "    coord = line.strip().split(\",\")\n",
    "    coord = [int(item) for item in coord]\n",
    "    box_x.append(coord[0])\n",
    "    box_y.append(coord[1])\n",
    "    box_width.append(coord[2] - coord[0])\n",
    "    box_height.append(coord[5] - coord[1])\n",
    "\n",
    "    cv2.rectangle(image,(coord[0], coord[1]),(coord[2],coord[5]),(255,0,0)) \n",
    "\n",
    "cv2.imshow('test',image)\n",
    "cv2.waitKey(0)\n",
    "f.close()"
   ]
  },
  {
   "cell_type": "code",
   "execution_count": null,
   "id": "1bc1226f",
   "metadata": {},
   "outputs": [],
   "source": []
  }
 ],
 "metadata": {
  "kernelspec": {
   "display_name": "py38",
   "language": "python",
   "name": "py38"
  },
  "language_info": {
   "codemirror_mode": {
    "name": "ipython",
    "version": 3
   },
   "file_extension": ".py",
   "mimetype": "text/x-python",
   "name": "python",
   "nbconvert_exporter": "python",
   "pygments_lexer": "ipython3",
   "version": "3.8.15"
  }
 },
 "nbformat": 4,
 "nbformat_minor": 5
}
